{
 "cells": [
  {
   "cell_type": "code",
   "execution_count": 270,
   "metadata": {},
   "outputs": [],
   "source": [
    "import keras\n",
    "import cv2\n",
    "import numpy as np\n",
    "import os\n",
    "import random\n",
    "import matplotlib.pyplot as plt\n",
    "import imutils\n",
    "import imageio\n",
    "from itertools import chain\n",
    "from glob import glob\n",
    "from sklearn.model_selection import train_test_split\n",
    "from keras.models import Sequential\n",
    "from keras.layers import Dense, Flatten\n",
    "from keras.layers.convolutional import Conv2D, MaxPooling2D\n",
    "from sklearn.preprocessing import LabelBinarizer                                                                                                            "
   ]
  },
  {
   "cell_type": "code",
   "execution_count": 7,
   "metadata": {},
   "outputs": [
    {
     "data": {
      "text/plain": [
       "['/job:localhost/replica:0/task:0/device:GPU:0']"
      ]
     },
     "execution_count": 7,
     "metadata": {},
     "output_type": "execute_result"
    }
   ],
   "source": [
    "from keras import backend as K\n",
    "K.tensorflow_backend._get_available_gpus()"
   ]
  },
  {
   "cell_type": "code",
   "execution_count": 484,
   "metadata": {},
   "outputs": [],
   "source": [
    "cur_dir = os.getcwd()\n",
    "dir_captcha = os.path.join(cur_dir,\"captcha_images/\")\n",
    "captcha_name_images = os.listdir(dir_captcha)"
   ]
  },
  {
   "cell_type": "code",
   "execution_count": 485,
   "metadata": {},
   "outputs": [
    {
     "data": {
      "image/png": "[encoded data removed]",
      "text/plain": [
       "<Figure size 432x288 with 4 Axes>"
      ]
     },
     "metadata": {},
     "output_type": "display_data"
    }
   ],
   "source": [
    "for i in range(4):\n",
    "    random_captcha = dir_captcha + random.choice(captcha_name_images)\n",
    "    captcha_image = cv2.imread(random_captcha)\n",
    "    plt.subplot(2,2,i+1)\n",
    "    plt.imshow(captcha_image,'gray')\n",
    "    plt.title(random_captcha.split(\"/\")[-1].split(\".\")[0])\n",
    "    plt.xticks([]),plt.yticks([])\n",
    "\n",
    "plt.show()"
   ]
  },
  {
   "cell_type": "code",
   "execution_count": 513,
   "metadata": {},
   "outputs": [],
   "source": [
    "letters_dir = os.path.join(os.getcwd(),\"letters\")\n",
    "if not os.path.exists(letters_dir):\n",
    "    os.makedirs(letters_dir)"
   ]
  },
  {
   "cell_type": "code",
   "execution_count": 514,
   "metadata": {},
   "outputs": [],
   "source": [
    "i = 0\n",
    "for captcha in captcha_name_images:\n",
    "    captcha_image = cv2.imread(dir_captcha + captcha)\n",
    "    captcha_image_gray = cv2.cvtColor(captcha_image, cv2.COLOR_BGR2GRAY)\n",
    "    captcha_image_gray = cv2.copyMakeBorder(captcha_image_gray, 8, 8, 8, 8, cv2.BORDER_REPLICATE)\n",
    "    threshold = cv2.threshold(captcha_image_gray, 0, 255, cv2.THRESH_BINARY_INV + cv2.THRESH_OTSU)[1]\n",
    "    im2, contours, _ = cv2.findContours(threshold.copy(), cv2.RETR_EXTERNAL, cv2.CHAIN_APPROX_NONE)\n",
    "    letter_image_regions = []\n",
    "    for contour in contours:\n",
    "        (x, y, w, h) = cv2.boundingRect(contour)\n",
    "        if w / h > 1.25:\n",
    "            half_width = int(w / 2)\n",
    "            letter_image_regions.append((x, y, half_width, h))\n",
    "            letter_image_regions.append((x + half_width, y, half_width, h))\n",
    "        else:\n",
    "            letter_image_regions.append((x, y, w, h))\n",
    "        \n",
    "    if len(letter_image_regions) != 4:\n",
    "        continue\n",
    "        \n",
    "    letter_image_regions = sorted(letter_image_regions, key=lambda x: x[0])\n",
    "    len_letter_image_regions = len(letter_image_regions)\n",
    "    for letter, letter_bounding_box in zip(captcha, letter_image_regions):\n",
    "        x, y, w, h = letter_bounding_box\n",
    "        letter_image = captcha_image_gray[y - 2:y + h + 2, x - 2:x + w + 2]\n",
    "        directory = os.path.join(letters_dir, letter)\n",
    "        if not os.path.exists(directory):\n",
    "            os.makedirs(directory)\n",
    "        imageio.imwrite(os.path.join(directory, str(i)+'.jpg'), letter_image)\n",
    "        i += 1"
   ]
  },
  {
   "cell_type": "code",
   "execution_count": 515,
   "metadata": {},
   "outputs": [
    {
     "data": {
      "image/png": "[encoded data removed]",
      "text/plain": [
       "<Figure size 432x288 with 6 Axes>"
      ]
     },
     "metadata": {},
     "output_type": "display_data"
    }
   ],
   "source": [
    "for i in range(6):\n",
    "    letter_Z_dir = os.path.join(letters_dir, \"Z\")\n",
    "    random_captcha = letter_Z_dir +\"/\"+ random.choice(os.listdir(letter_Z_dir))\n",
    "    captcha_image = cv2.imread(random_captcha)\n",
    "    plt.subplot(2,3,i+1)\n",
    "    plt.imshow(captcha_image,'gray')\n",
    "    plt.title(random_captcha.split(\"/\")[-1].split(\".\")[0])\n",
    "    plt.xticks([]),plt.yticks([])\n",
    "\n",
    "plt.show()"
   ]
  },
  {
   "cell_type": "code",
   "execution_count": 286,
   "metadata": {},
   "outputs": [],
   "source": [
    "X = []\n",
    "y = []\n",
    "for letter in os.listdir(letters_dir):\n",
    "    for name in os.listdir(os.path.join(letters_dir, letter)):\n",
    "        captcha_image = cv2.imread(letters_dir+ \"/\" + letter+ \"/\" + name)\n",
    "        captcha = cv2.cvtColor(captcha_image, cv2.COLOR_BGR2GRAY)\n",
    "        captcha = cv2.resize(captcha,(32, 32))\n",
    "        captcha = np.expand_dims(captcha, axis=2)\n",
    "        X.append(captcha)\n",
    "        y.append(letter)\n",
    "X = np.array(X, dtype=\"float\") / 255.0                                                                                                                 \n",
    "y = np.array(y) "
   ]
  },
  {
   "cell_type": "code",
   "execution_count": 287,
   "metadata": {},
   "outputs": [
    {
     "data": {
      "text/plain": [
       "(38775, 32, 32, 1)"
      ]
     },
     "execution_count": 287,
     "metadata": {},
     "output_type": "execute_result"
    }
   ],
   "source": [
    "X.shape"
   ]
  },
  {
   "cell_type": "code",
   "execution_count": 288,
   "metadata": {},
   "outputs": [
    {
     "data": {
      "image/png": "[encoded data removed]",
      "text/plain": [
       "<Figure size 432x288 with 6 Axes>"
      ]
     },
     "metadata": {},
     "output_type": "display_data"
    }
   ],
   "source": [
    "for i in range(6):\n",
    "    index = np.random.randint(0, len(X))\n",
    "    plt.subplot(2,3,i+1)\n",
    "    plt.imshow(X[:,:,:,0][index],'gray')\n",
    "    plt.title(y[index])\n",
    "    plt.xticks([]),plt.yticks([])\n",
    "\n",
    "plt.show()"
   ]
  },
  {
   "cell_type": "code",
   "execution_count": 320,
   "metadata": {},
   "outputs": [],
   "source": [
    "X_train, X_test, y_train, y_test = train_test_split(X, y, test_size=0.2)\n",
    "lb = LabelBinarizer().fit(y)                                                                                                                           \n",
    "y_train_one_hot = lb.transform(y_train)                                                                                                                              \n",
    "y_test_one_hot = lb.transform(y_test)"
   ]
  },
  {
   "cell_type": "code",
   "execution_count": 321,
   "metadata": {},
   "outputs": [
    {
     "name": "stdout",
     "output_type": "stream",
     "text": [
      "The shape of X is (38775, 32, 32, 1)\n",
      "The shape of X_train is (31020, 32, 32, 1)\n",
      "The shape of X_test is (7755, 32, 32, 1)\n"
     ]
    }
   ],
   "source": [
    "print(\"The shape of X is\", X.shape)\n",
    "print(\"The shape of X_train is\", X_train.shape)\n",
    "print(\"The shape of X_test is\", X_test.shape)"
   ]
  },
  {
   "cell_type": "code",
   "execution_count": 322,
   "metadata": {},
   "outputs": [
    {
     "name": "stdout",
     "output_type": "stream",
     "text": [
      "_________________________________________________________________\n",
      "Layer (type)                 Output Shape              Param #   \n",
      "=================================================================\n",
      "conv2d_36 (Conv2D)           (None, 32, 32, 6)         156       \n",
      "_________________________________________________________________\n",
      "max_pooling2d_36 (MaxPooling (None, 16, 16, 6)         0         \n",
      "_________________________________________________________________\n",
      "conv2d_37 (Conv2D)           (None, 16, 16, 16)        2416      \n",
      "_________________________________________________________________\n",
      "max_pooling2d_37 (MaxPooling (None, 8, 8, 16)          0         \n",
      "_________________________________________________________________\n",
      "flatten_19 (Flatten)         (None, 1024)              0         \n",
      "_________________________________________________________________\n",
      "dense_37 (Dense)             (None, 120)               123000    \n",
      "_________________________________________________________________\n",
      "dense_38 (Dense)             (None, 32)                3872      \n",
      "=================================================================\n",
      "Total params: 129,444\n",
      "Trainable params: 129,444\n",
      "Non-trainable params: 0\n",
      "_________________________________________________________________\n"
     ]
    }
   ],
   "source": [
    "model = Sequential()\n",
    "\n",
    "model.add(Conv2D(6, (5, 5), padding=\"same\", kernel_initializer=keras.initializers.glorot_normal(), input_shape=(32, 32, 1), activation=\"relu\"))\n",
    "model.add(MaxPooling2D(pool_size=(2, 2)))\n",
    "\n",
    "model.add(Conv2D(16, (5, 5), padding=\"same\", activation=\"relu\"))\n",
    "model.add(MaxPooling2D(pool_size=(2, 2)))\n",
    "\n",
    "model.add(Flatten())\n",
    "model.add(Dense(120, activation=\"relu\"))\n",
    "\n",
    "model.add(Dense(32, activation=\"softmax\"))\n",
    "\n",
    "model.compile(loss=\"categorical_crossentropy\", optimizer=\"adam\", metrics=[\"accuracy\"])\n",
    "model.summary()"
   ]
  },
  {
   "cell_type": "code",
   "execution_count": 324,
   "metadata": {},
   "outputs": [
    {
     "name": "stdout",
     "output_type": "stream",
     "text": [
      "Train on 31020 samples, validate on 7755 samples\n",
      "Epoch 1/3\n",
      "31020/31020 [==============================] - 84s 3ms/step - loss: 0.2823 - acc: 0.9334 - val_loss: 0.0323 - val_acc: 0.9930\n",
      "Epoch 2/3\n",
      "31020/31020 [==============================] - 73s 2ms/step - loss: 0.0243 - acc: 0.9942 - val_loss: 0.0147 - val_acc: 0.9959\n",
      "Epoch 3/3\n",
      "31020/31020 [==============================] - 87s 3ms/step - loss: 0.0094 - acc: 0.9977 - val_loss: 0.0109 - val_acc: 0.9970\n"
     ]
    }
   ],
   "source": [
    "history = model.fit(X_train, y_train_one_hot, validation_data=(X_test, y_test_one_hot), batch_size=32, epochs=3)"
   ]
  },
  {
   "cell_type": "code",
   "execution_count": 326,
   "metadata": {},
   "outputs": [
    {
     "name": "stdout",
     "output_type": "stream",
     "text": [
      "7755/7755 [==============================] - 8s 969us/step\n",
      "Test score: 0.010922561660456636\n",
      "Test accuracy: 0.9970341715022566\n"
     ]
    }
   ],
   "source": [
    "score, acc = model.evaluate(X_test, y_test_one_hot, batch_size=32)\n",
    "print('Test score:', score)\n",
    "print('Test accuracy:', acc)"
   ]
  },
  {
   "cell_type": "code",
   "execution_count": 401,
   "metadata": {},
   "outputs": [
    {
     "data": {
      "image/png": "[encoded data removed]",
      "text/plain": [
       "<Figure size 432x288 with 6 Axes>"
      ]
     },
     "metadata": {},
     "output_type": "display_data"
    }
   ],
   "source": [
    "for i in range(6):\n",
    "    index = np.random.randint(0, len(X_test))\n",
    "    plt.subplot(2,3,i+1)\n",
    "    test = X_test[:,:,:,0][index]\n",
    "    plt.imshow(test,'gray')\n",
    "    test = np.expand_dims(test, axis=2)\n",
    "    value = np.argmax(model.predict([[test]]))\n",
    "    plt.title(lb.classes_[value])\n",
    "    plt.xticks([]),plt.yticks([])\n",
    "plt.show()"
   ]
  },
  {
   "cell_type": "code",
   "execution_count": 623,
   "metadata": {},
   "outputs": [
    {
     "data": {
      "image/png": "[encoded data removed]",
      "text/plain": [
       "<Figure size 432x288 with 1 Axes>"
      ]
     },
     "metadata": {},
     "output_type": "display_data"
    }
   ],
   "source": [
    "\"\"\"\n",
    "random_captcha = dir_captcha + random.choice(captcha_name_images)\n",
    "captcha_image = cv2.imread(random_captcha)\n",
    "captcha_image_gray = cv2.cvtColor(captcha_image, cv2.COLOR_BGR2GRAY)\n",
    "captcha_image_gray = cv2.copyMakeBorder(captcha_image_gray, 8, 8, 8, 8, cv2.BORDER_REPLICATE)\n",
    "threshold = cv2.threshold(captcha_image_gray, 0, 255, cv2.THRESH_BINARY_INV + cv2.THRESH_OTSU)[1]\n",
    "im2, contours, _ = cv2.findContours(threshold.copy(), cv2.RETR_EXTERNAL, cv2.CHAIN_APPROX_NONE)\n",
    "letter_image_regions = []\n",
    "prediction = \"\"\n",
    "for contour in contours:\n",
    "    (x, y, w, h) = cv2.boundingRect(contour)\n",
    "    if w / h > 1.25:\n",
    "        half_width = int(w / 2)\n",
    "        letter_image_regions.append((x, y, half_width, h))\n",
    "        letter_image_regions.append((x + half_width, y, half_width, h))\n",
    "    else:\n",
    "        letter_image_regions.append((x, y, w, h))\n",
    "letter_image_regions = sorted(letter_image_regions, key=lambda x: x[0])\n",
    "len_letter_image_regions = len(letter_image_regions)\n",
    "\"\"\"\n",
    "\n",
    "for letter, letter_bounding_box in zip(captcha, letter_image_regions):\n",
    "    x, y, w, h = letter_bounding_box\n",
    "    letter_image = captcha_image_gray[y - 2:y + h + 2, x - 2:x + w + 2]\n",
    "    letter_image = cv2.resize(letter_image, (32, 32))\n",
    "    test = np.expand_dims(letter_image, axis=2)\n",
    "    value = np.argmax(model.predict([[test]]))\n",
    "    prediction += lb.classes_[value]\n",
    "\n",
    "plt.imshow(captcha_image)\n",
    "plt.title(\"Prediction: \"+ prediction)\n",
    "plt.xticks([]),plt.yticks([])\n",
    "plt.show()"
   ]
  },
  {
   "cell_type": "code",
   "execution_count": 855,
   "metadata": {},
   "outputs": [
    {
     "data": {
      "text/plain": [
       "<matplotlib.image.AxesImage at 0x7f3f6aab59b0>"
      ]
     },
     "execution_count": 855,
     "metadata": {},
     "output_type": "execute_result"
    },
    {
     "data": {
      "image/png": "[encoded data removed]",
      "text/plain": [
       "<Figure size 432x288 with 1 Axes>"
      ]
     },
     "metadata": {
      "needs_background": "light"
     },
     "output_type": "display_data"
    }
   ],
   "source": [
    "captcha_image = cv2.imread(random_captcha)\n",
    "captcha_image_gray = cv2.cvtColor(captcha_image, cv2.COLOR_BGR2GRAY)\n",
    "threshold = cv2.threshold(captcha_image_gray, 0, 255, cv2.THRESH_BINARY)[1]\n",
    "plt.imshow(threshold, cmap=\"gray\")"
   ]
  }
 ],
 "metadata": {
  "kernelspec": {
   "display_name": "jupyter3_Python_3.6",
   "language": "python",
   "name": "jupyter3_python_3.6"
  },
  "language_info": {
   "codemirror_mode": {
    "name": "ipython",
    "version": 3
   },
   "file_extension": ".py",
   "mimetype": "text/x-python",
   "name": "python",
   "nbconvert_exporter": "python",
   "pygments_lexer": "ipython3",
   "version": "3.6.6"
  }
 },
 "nbformat": 4,
 "nbformat_minor": 2
}
